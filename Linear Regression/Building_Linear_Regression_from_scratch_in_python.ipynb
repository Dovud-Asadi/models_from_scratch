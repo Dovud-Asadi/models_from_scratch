{
  "nbformat": 4,
  "nbformat_minor": 0,
  "metadata": {
    "colab": {
      "provenance": [],
      "toc_visible": true
    },
    "kernelspec": {
      "name": "python3",
      "display_name": "Python 3"
    },
    "language_info": {
      "name": "python"
    }
  },
  "cells": [
    {
      "cell_type": "markdown",
      "source": [
        "## Step 1: Import Necessary Libraries"
      ],
      "metadata": {
        "id": "eAUUXNm6Sr9t"
      }
    },
    {
      "cell_type": "code",
      "source": [
        "import numpy as np\n",
        "import pandas as pd\n",
        "import matplotlib.pyplot as plt"
      ],
      "metadata": {
        "id": "A0q2vkIHSiZP"
      },
      "execution_count": 3,
      "outputs": []
    },
    {
      "cell_type": "markdown",
      "source": [
        "## Step 2: Load and Preprocess the Data"
      ],
      "metadata": {
        "id": "Bv6TOTMmSwFn"
      }
    },
    {
      "cell_type": "code",
      "source": [
        "# Load dataset\n",
        "data = pd.read_csv('/content/winequality-red.csv')\n",
        "\n",
        "# Separate features and target variable\n",
        "X = data.iloc[:, :-1].values  # All columns except the last one\n",
        "y = data.iloc[:, -1].values  # The last column\n",
        "\n",
        "# Normalize features\n",
        "X = (X - X.mean(axis=0)) / X.std(axis=0)"
      ],
      "metadata": {
        "id": "Z-iGkOQlSumV"
      },
      "execution_count": 5,
      "outputs": []
    },
    {
      "cell_type": "markdown",
      "source": [
        "## Step 3: Initialize Parameters"
      ],
      "metadata": {
        "id": "uCgB1lx9S3Xk"
      }
    },
    {
      "cell_type": "code",
      "source": [
        "def initialize_parameters(n_features):\n",
        "    W = np.zeros(n_features)\n",
        "    B = 0\n",
        "    return W, B\n",
        "\n",
        "n_features = X.shape[1]\n",
        "W, B = initialize_parameters(n_features)"
      ],
      "metadata": {
        "id": "vptE6Cz2SyoM"
      },
      "execution_count": 6,
      "outputs": []
    },
    {
      "cell_type": "markdown",
      "source": [
        "## Step 4: Define the Prediction Function"
      ],
      "metadata": {
        "id": "g3SmMe6pS7Oj"
      }
    },
    {
      "cell_type": "code",
      "source": [
        "def predict(X, W, B):\n",
        "    return np.dot(X, W) + B"
      ],
      "metadata": {
        "id": "yrIrAzQqS6Sc"
      },
      "execution_count": 7,
      "outputs": []
    },
    {
      "cell_type": "markdown",
      "source": [
        "## Step 5: Define the Cost Function\n"
      ],
      "metadata": {
        "id": "afuoO7bWS-ka"
      }
    },
    {
      "cell_type": "code",
      "source": [
        "def compute_cost(X, y, W, B):\n",
        "    m = len(y)\n",
        "    predictions = predict(X, W, B)\n",
        "    cost = (1 / (2 * m)) * np.sum((predictions - y) ** 2)\n",
        "    return cost"
      ],
      "metadata": {
        "id": "PsQnTq7OS-O-"
      },
      "execution_count": 8,
      "outputs": []
    },
    {
      "cell_type": "markdown",
      "source": [
        "## Step 6: Implement Gradient Descent"
      ],
      "metadata": {
        "id": "efw-64nETCHb"
      }
    },
    {
      "cell_type": "code",
      "source": [
        "def gradient_descent(X, y, W, B, learning_rate, epochs):\n",
        "    m = len(y)\n",
        "    cost_history = []\n",
        "\n",
        "    for i in range(epochs):\n",
        "        predictions = predict(X, W, B)\n",
        "\n",
        "        # Compute gradients\n",
        "        dW = (1 / m) * np.dot(X.T, (predictions - y))\n",
        "        dB = (1 / m) * np.sum(predictions - y)\n",
        "\n",
        "        # Update parameters\n",
        "        W -= learning_rate * dW\n",
        "        B -= learning_rate * dB\n",
        "\n",
        "        # Compute and store the cost\n",
        "        cost = compute_cost(X, y, W, B)\n",
        "        cost_history.append(cost)\n",
        "\n",
        "        if i % 100 == 0:\n",
        "            print(f'Epoch {i}: Cost {cost}')\n",
        "\n",
        "    return W, B, cost_history"
      ],
      "metadata": {
        "id": "v8EKFKzSS9Sc"
      },
      "execution_count": 9,
      "outputs": []
    },
    {
      "cell_type": "markdown",
      "source": [
        "## Step 7: Train the Model"
      ],
      "metadata": {
        "id": "QqQY1ygATGdL"
      }
    },
    {
      "cell_type": "code",
      "source": [
        "learning_rate = 0.01\n",
        "epochs = 1000\n",
        "\n",
        "W, B, cost_history = gradient_descent(X, y, W, B, learning_rate, epochs)"
      ],
      "metadata": {
        "colab": {
          "base_uri": "https://localhost:8080/"
        },
        "id": "ghDYPlBDTFI8",
        "outputId": "2977d9bd-75b6-40c0-95d0-75f0a7f30def"
      },
      "execution_count": 10,
      "outputs": [
        {
          "output_type": "stream",
          "name": "stdout",
          "text": [
            "Epoch 0: Cost 15.888342020222298\n",
            "Epoch 100: Cost 2.3015942441588653\n",
            "Epoch 200: Cost 0.48990369118679383\n",
            "Epoch 300: Cost 0.2468321276356927\n",
            "Epoch 400: Cost 0.2139620085657499\n",
            "Epoch 500: Cost 0.20939476040272198\n",
            "Epoch 600: Cost 0.2086923612800543\n",
            "Epoch 700: Cost 0.2085453353461181\n",
            "Epoch 800: Cost 0.2084929696736002\n",
            "Epoch 900: Cost 0.20846473383225905\n"
          ]
        }
      ]
    },
    {
      "cell_type": "markdown",
      "source": [
        "## Step 8: Plot the Cost Function"
      ],
      "metadata": {
        "id": "7tramkNYTL6D"
      }
    },
    {
      "cell_type": "code",
      "source": [
        "plt.plot(cost_history)\n",
        "plt.xlabel('Epochs')\n",
        "plt.ylabel('Cost')\n",
        "plt.title('Cost Function over Epochs')\n",
        "plt.show()"
      ],
      "metadata": {
        "colab": {
          "base_uri": "https://localhost:8080/",
          "height": 472
        },
        "id": "kQv9q22lTI30",
        "outputId": "944a6aba-63e5-455f-a719-9eff0cf219b8"
      },
      "execution_count": 11,
      "outputs": [
        {
          "output_type": "display_data",
          "data": {
            "text/plain": [
              "<Figure size 640x480 with 1 Axes>"
            ],
            "image/png": "[encoded data removed]"
          },
          "metadata": {}
        }
      ]
    },
    {
      "cell_type": "markdown",
      "source": [
        "## Step 9: Make Predictions"
      ],
      "metadata": {
        "id": "aa5wIEN1TPeN"
      }
    },
    {
      "cell_type": "code",
      "source": [
        "# Predict on training data\n",
        "predictions = predict(X, W, B)"
      ],
      "metadata": {
        "id": "5SqbjhD5TN_r"
      },
      "execution_count": 12,
      "outputs": []
    },
    {
      "cell_type": "markdown",
      "source": [
        "## Step 10: Evaluate the Model"
      ],
      "metadata": {
        "id": "JKHQNTygTT9r"
      }
    },
    {
      "cell_type": "code",
      "source": [
        "def mean_squared_error(y_true, y_pred):\n",
        "    return np.mean((y_true - y_pred) ** 2)\n",
        "\n",
        "def r2_score(y_true, y_pred):\n",
        "    ss_total = np.sum((y_true - np.mean(y_true)) ** 2)\n",
        "    ss_residual = np.sum((y_true - y_pred) ** 2)\n",
        "    r2 = 1 - (ss_residual / ss_total)\n",
        "    return r2\n",
        "\n",
        "# Calculate MSE and R-squared\n",
        "mse = mean_squared_error(y, predictions)\n",
        "r2 = r2_score(y, predictions)\n",
        "print(f'Mean Squared Error: {mse}')\n",
        "print(f'R-squared: {r2}')"
      ],
      "metadata": {
        "colab": {
          "base_uri": "https://localhost:8080/"
        },
        "id": "UoHPhjGyTR5z",
        "outputId": "d6d50494-6a12-487b-a1cb-0777fa1494e6"
      },
      "execution_count": 13,
      "outputs": [
        {
          "output_type": "stream",
          "name": "stdout",
          "text": [
            "Mean Squared Error: 0.4168933182976397\n",
            "R-squared: 0.360358148706196\n"
          ]
        }
      ]
    },
    {
      "cell_type": "markdown",
      "source": [
        "## Additional Improvements and Extensions\n",
        "- **Feature Engineering**: Add interaction terms and polynomial features to capture non-linear relationships.\n",
        "- **Regularization**: Implement Lasso (L1) or Ridge (L2) regularization to prevent overfitting.\n",
        "- **Cross-Validation**: Use cross-validation to ensure the model generalizes well to unseen data.\n",
        "\n",
        "Below are code snippets for some of these techniques.\n",
        "\n",
        "### Adding Polynomial Features\n",
        "```python\n",
        "from sklearn.preprocessing import PolynomialFeatures\n",
        "\n",
        "poly = PolynomialFeatures(degree=2, include_bias=False)\n",
        "X_poly = poly.fit_transform(X)\n",
        "```\n",
        "\n",
        "### Regularization\n",
        "Update the cost function to include a regularization term:\n",
        "```python\n",
        "def compute_cost_with_regularization(X, y, W, B, lambda_):\n",
        "    m = len(y)\n",
        "    predictions = predict(X, W, B)\n",
        "    cost = (1 / (2 * m)) * np.sum((predictions - y) ** 2)\n",
        "    reg_cost = cost + (lambda_ / (2 * m)) * np.sum(np.square(W))\n",
        "    return reg_cost\n",
        "```\n",
        "\n",
        "Update the gradient descent function to include regularization:\n",
        "```python\n",
        "def gradient_descent_with_regularization(X, y, W, B, learning_rate, epochs, lambda_):\n",
        "    m = len(y)\n",
        "    cost_history = []\n",
        "\n",
        "    for i in range(epochs):\n",
        "        predictions = predict(X, W, B)\n",
        "        \n",
        "        # Compute gradients with regularization\n",
        "        dW = (1 / m) * np.dot(X.T, (predictions - y)) + (lambda_ / m) * W\n",
        "        dB = (1 / m) * np.sum(predictions - y)\n",
        "\n",
        "        # Update parameters\n",
        "        W -= learning_rate * dW\n",
        "        B -= learning_rate * dB\n",
        "\n",
        "        # Compute and store the cost\n",
        "        cost = compute_cost_with_regularization(X, y, W, B, lambda_)\n",
        "        cost_history.append(cost)\n",
        "\n",
        "        if i % 100 == 0:\n",
        "            print(f'Epoch {i}: Cost {cost}')\n",
        "\n",
        "    return W, B, cost_history\n",
        "```\n",
        "\n",
        "### Cross-Validation\n",
        "```python\n",
        "from sklearn.model_selection import cross_val_score\n",
        "from sklearn.linear_model import LinearRegression\n",
        "\n",
        "def cross_validation_accuracy(X, y, cv=5):\n",
        "    model = LinearRegression()\n",
        "    scores = cross_val_score(model, X, y, cv=cv, scoring='neg_mean_squared_error')\n",
        "    return np.mean(scores)\n",
        "\n",
        "cv_score = cross_validation_accuracy(X, y)\n",
        "print(f'Cross-Validation Score: {cv_score}')\n",
        "```"
      ],
      "metadata": {
        "id": "jYMWdsELTbnN"
      }
    },
    {
      "cell_type": "code",
      "source": [],
      "metadata": {
        "id": "UAie5YTsTilj"
      },
      "execution_count": null,
      "outputs": []
    }
  ]
}