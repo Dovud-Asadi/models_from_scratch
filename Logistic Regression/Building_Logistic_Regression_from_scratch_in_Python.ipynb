{
  "nbformat": 4,
  "nbformat_minor": 0,
  "metadata": {
    "colab": {
      "provenance": []
    },
    "kernelspec": {
      "name": "python3",
      "display_name": "Python 3"
    },
    "language_info": {
      "name": "python"
    }
  },
  "cells": [
    {
      "cell_type": "markdown",
      "source": [
        "### Linear Combination of Inputs\n",
        "$$\n",
        "Z(x) = W^T \\cdot X + B\n",
        "$$\n",
        "- **Description**: This represents the linear combination of input features $ X$  with the weight vector  $W$  and bias term  $B$ . Here,  $W^T$  is the transpose of the weight vector, making $ Z(x) $ a scalar.\n",
        "\n",
        "### Sigmoid Function\n",
        "$$\n",
        "\\sigma(Z) = \\frac{1}{1 + e^{-Z}}\n",
        "$$\n",
        "- **Description**: The sigmoid function, denoted as $ \\sigma(Z) $, maps any real-valued number into the (0, 1) interval. This function is used to model the probability that a given input belongs to a certain class.\n",
        "\n",
        "### Logistic Regression Model\n",
        "$$\n",
        "P(Y=1|X) = \\sigma(Z(x)) = \\frac{1}{1 + e^{-(W^T \\cdot X + B)}}\n",
        "$$\n",
        "- **Description**: This equation gives the probability that the dependent variable $ Y $ equals 1 given the input features $ X $. It applies the sigmoid function to the linear combination of inputs.\n",
        "\n",
        "### Loss Function (Log-Loss or Binary Cross-Entropy)\n",
        "$$\n",
        "L(y,\\hat{y})  = -[y \\log(\\hat{y}) + (1 - y) \\log(1 - \\hat{y})]\n",
        "$$\n",
        "- **Description**: The loss function measures the discrepancy between the true label  $y$  and the predicted probability  $\\hat{y}$ . It is minimized during the training process to improve the model's accuracy.\n",
        "\n",
        "### Cost Function (Log-Loss or Binary Cross-Entropy)\n",
        "$$\n",
        "J(W, B)=-\\frac{1}{m}\\sum_{i=1}^{m}[y \\log(\\hat{y}) + (1 - y) \\log(1 - \\hat{y})]\n",
        "$$\n",
        "- **Description**: The cost function measures the discrepancy between the true label $ y $ and the predicted probability $ \\hat{y} $. It is used to evaluate the performance of the logistic regression model, with the goal of minimizing this value during training.\n",
        "\n",
        "### Gradient Descent Update Rule for Weights\n",
        "$$\n",
        "W \\leftarrow W - \\alpha \\frac{\\partial L}{\\partial W}\n",
        "$$\n",
        "- **Description**: This update rule adjusts the weights $ W $ to minimize the loss function $ L $. Here, $ \\alpha$  is the learning rate, and $ \\frac{\\partial L}{\\partial W} $ is the gradient of the loss function with respect to the weights.\n",
        "\n",
        "### Gradient Descent Update Rule for Bias\n",
        "$$\n",
        "B \\leftarrow B - \\alpha \\frac{\\partial L}{\\partial B}\n",
        "$$\n",
        "- **Description**: Similar to the weight update rule, this adjusts the bias term $ B $ to minimize the loss function.\n",
        "\n",
        "### Gradient of the Loss with Respect to Weights\n",
        "$$\n",
        "\\frac{\\partial L}{\\partial W} = \\frac{1}{m} \\sum_{i=1}^{m} ( \\hat{y}^{(i)} - y^{(i)} ) X^{(i)}\n",
        "$$\n",
        "- **Description**: This gradient calculation involves the average over all training examples $ m $. It measures how much the loss would change with a small change in the weights $ W $.\n",
        "\n",
        "### Gradient of the Loss with Respect to Bias\n",
        "$$\n",
        "\\frac{\\partial L}{\\partial B} = \\frac{1}{m} \\sum_{i=1}^{m} ( \\hat{y}^{(i)} - y^{(i)} )\n",
        "$$\n",
        "- **Description**: This gradient calculation involves the average over all training examples $ m $. It measures how much the loss would change with a small change in the bias term $ B $."
      ],
      "metadata": {
        "id": "G_nJq2yJDxBh"
      }
    },
    {
      "cell_type": "code",
      "execution_count": 34,
      "metadata": {
        "colab": {
          "base_uri": "https://localhost:8080/"
        },
        "id": "MFGlF6J4CBX3",
        "outputId": "e2b1f04a-b5ea-45f5-e158-bda8ae3844b7"
      },
      "outputs": [
        {
          "output_type": "stream",
          "name": "stdout",
          "text": [
            "Archive:  /content/Classification.zip\n",
            "replace Heart Attack.csv? [y]es, [n]o, [A]ll, [N]one, [r]ename: n\n"
          ]
        }
      ],
      "source": [
        "!unzip /content/Classification.zip"
      ]
    },
    {
      "cell_type": "markdown",
      "source": [
        "## Step 1: Import Necessary Libraries\n"
      ],
      "metadata": {
        "id": "ZhTIFQKHKEC0"
      }
    },
    {
      "cell_type": "code",
      "source": [
        "import numpy as np\n",
        "import pandas as pd\n",
        "import matplotlib.pyplot as plt\n",
        "import seaborn as sns"
      ],
      "metadata": {
        "id": "B9Q7apxfKJ4s"
      },
      "execution_count": 35,
      "outputs": []
    },
    {
      "cell_type": "code",
      "source": [
        "data = pd.read_csv('/content/Heart Attack.csv')\n",
        "# data['class'] = data['class'].apply(lambda x: 0 if x == 'negative' else 1)\n",
        "\n",
        "data['class'] = data['class'].replace({'negative': 0, 'positive': 1})\n",
        "data.info()"
      ],
      "metadata": {
        "colab": {
          "base_uri": "https://localhost:8080/"
        },
        "id": "sxV168vqCgtC",
        "outputId": "688f23a3-5307-470c-84af-c49342ecac2d"
      },
      "execution_count": 36,
      "outputs": [
        {
          "output_type": "stream",
          "name": "stdout",
          "text": [
            "<class 'pandas.core.frame.DataFrame'>\n",
            "RangeIndex: 1319 entries, 0 to 1318\n",
            "Data columns (total 9 columns):\n",
            " #   Column         Non-Null Count  Dtype  \n",
            "---  ------         --------------  -----  \n",
            " 0   age            1319 non-null   int64  \n",
            " 1   gender         1319 non-null   int64  \n",
            " 2   impluse        1319 non-null   int64  \n",
            " 3   pressurehight  1319 non-null   int64  \n",
            " 4   pressurelow    1319 non-null   int64  \n",
            " 5   glucose        1319 non-null   float64\n",
            " 6   kcm            1319 non-null   float64\n",
            " 7   troponin       1319 non-null   float64\n",
            " 8   class          1319 non-null   int64  \n",
            "dtypes: float64(3), int64(6)\n",
            "memory usage: 92.9 KB\n"
          ]
        }
      ]
    },
    {
      "cell_type": "markdown",
      "source": [
        "## Step 2: Load and Preprocess the Data"
      ],
      "metadata": {
        "id": "pOmtU9swIZks"
      }
    },
    {
      "cell_type": "code",
      "source": [
        "# Separate features and target variable\n",
        "X = data.iloc[:, :-1].values  # All columns except the last one\n",
        "y = data.iloc[:, -1].values  # The last column\n",
        "\n",
        "# Normalize features\n",
        "X = (X - X.mean(axis=0)) / X.std(axis=0)"
      ],
      "metadata": {
        "id": "MVLBqjj_GUYg"
      },
      "execution_count": 37,
      "outputs": []
    },
    {
      "cell_type": "markdown",
      "source": [
        "## Step 3: Implement Sigmoid Function"
      ],
      "metadata": {
        "id": "3tJ63bfwIeVa"
      }
    },
    {
      "cell_type": "code",
      "source": [
        "def sigmoid(z):\n",
        "    return 1 / (1 + np.exp(-z))"
      ],
      "metadata": {
        "id": "qiKQEmNJIeqg"
      },
      "execution_count": 38,
      "outputs": []
    },
    {
      "cell_type": "markdown",
      "source": [
        "## Step 4: Initialize Parameters"
      ],
      "metadata": {
        "id": "Au6uGco3IkFZ"
      }
    },
    {
      "cell_type": "code",
      "source": [
        "def initialize_parameters(n_features):\n",
        "    W = np.zeros(n_features)\n",
        "    B = 0\n",
        "    return W, B\n",
        "\n",
        "n_features = X.shape[1]\n",
        "W, B = initialize_parameters(n_features)"
      ],
      "metadata": {
        "id": "43KoOcrUIkrU"
      },
      "execution_count": 39,
      "outputs": []
    },
    {
      "cell_type": "markdown",
      "source": [
        "## Step 5: Define the Cost Function"
      ],
      "metadata": {
        "id": "6-ys-1pHIpKp"
      }
    },
    {
      "cell_type": "code",
      "source": [
        "def compute_cost(X, y, W, B):\n",
        "    m = len(y)\n",
        "    Z = np.dot(X, W) + B\n",
        "    A = sigmoid(Z)\n",
        "    cost = - (1 / m) * np.sum(y * np.log(A) + (1 - y) * np.log(1 - A))\n",
        "    return cost"
      ],
      "metadata": {
        "id": "ckVrJZFVIk_F"
      },
      "execution_count": 40,
      "outputs": []
    },
    {
      "cell_type": "markdown",
      "source": [
        "## Step 6: Implement Gradient Descent"
      ],
      "metadata": {
        "id": "2ENvMp_dItXO"
      }
    },
    {
      "cell_type": "code",
      "source": [
        "def gradient_descent(X, y, W, B, learning_rate, epochs):\n",
        "    m = len(y)\n",
        "    cost_history = []\n",
        "\n",
        "    for i in range(epochs):\n",
        "        Z = np.dot(X, W) + B\n",
        "        A = sigmoid(Z)\n",
        "\n",
        "        # Compute gradients\n",
        "        dW = (1 / m) * np.dot(X.T, (A - y))\n",
        "        dB = (1 / m) * np.sum(A - y)\n",
        "\n",
        "        # Update parameters\n",
        "        W -= learning_rate * dW\n",
        "        B -= learning_rate * dB\n",
        "\n",
        "        # Compute and store the cost\n",
        "        cost = compute_cost(X, y, W, B)\n",
        "        cost_history.append(cost)\n",
        "\n",
        "        if i % 100 == 0:\n",
        "            print(f'Epoch {i}: Cost {cost}')\n",
        "\n",
        "    return W, B, cost_history"
      ],
      "metadata": {
        "id": "Xi0FhL6cIrKL"
      },
      "execution_count": 41,
      "outputs": []
    },
    {
      "cell_type": "markdown",
      "source": [
        "## Step 7: Train the Model"
      ],
      "metadata": {
        "id": "h162LZhSIxuE"
      }
    },
    {
      "cell_type": "code",
      "source": [
        "learning_rate = 0.01\n",
        "epochs = 1000\n",
        "\n",
        "W, B, cost_history = gradient_descent(X, y, W, B, learning_rate, epochs)"
      ],
      "metadata": {
        "colab": {
          "base_uri": "https://localhost:8080/"
        },
        "id": "I9aqHRDYIvkD",
        "outputId": "74036768-fa0c-4364-d9a6-fbb74e4b2733"
      },
      "execution_count": 42,
      "outputs": [
        {
          "output_type": "stream",
          "name": "stdout",
          "text": [
            "Epoch 0: Cost 0.6926212237533955\n",
            "Epoch 100: Cost 0.651536816477973\n",
            "Epoch 200: Cost 0.6260139804506825\n",
            "Epoch 300: Cost 0.6090498552962774\n",
            "Epoch 400: Cost 0.597038298068152\n",
            "Epoch 500: Cost 0.5880721840427087\n",
            "Epoch 600: Cost 0.5810801863072251\n",
            "Epoch 700: Cost 0.5754258794983401\n",
            "Epoch 800: Cost 0.5707131405744061\n",
            "Epoch 900: Cost 0.5666856307854389\n"
          ]
        }
      ]
    },
    {
      "cell_type": "markdown",
      "source": [
        "## Step 8: Plot the Cost Function"
      ],
      "metadata": {
        "id": "I1Elps2cI2WS"
      }
    },
    {
      "cell_type": "code",
      "source": [
        "plt.plot(cost_history)\n",
        "plt.xlabel('Epochs')\n",
        "plt.ylabel('Cost')\n",
        "plt.title('Cost Function over Epochs')\n",
        "plt.show()"
      ],
      "metadata": {
        "colab": {
          "base_uri": "https://localhost:8080/",
          "height": 472
        },
        "id": "4632HgeZIznD",
        "outputId": "cf9b40d5-10de-4a0d-ee04-acbde6b80217"
      },
      "execution_count": 43,
      "outputs": [
        {
          "output_type": "display_data",
          "data": {
            "text/plain": [
              "<Figure size 640x480 with 1 Axes>"
            ],
            "image/png": "[encoded data removed]"
          },
          "metadata": {}
        }
      ]
    },
    {
      "cell_type": "markdown",
      "source": [
        "## Step 9: Make Predictions"
      ],
      "metadata": {
        "id": "GuPUGXP3I7Dj"
      }
    },
    {
      "cell_type": "code",
      "source": [
        "def predict(X, W, B, threshold=0.5):\n",
        "    Z = np.dot(X, W) + B\n",
        "    A = sigmoid(Z)\n",
        "    return A >= threshold\n",
        "\n",
        "# Predict on training data\n",
        "predictions = predict(X, W, B)"
      ],
      "metadata": {
        "id": "Q8h4xQNyI4kE"
      },
      "execution_count": 44,
      "outputs": []
    },
    {
      "cell_type": "markdown",
      "source": [
        "## Step 10: Evaluate the Model"
      ],
      "metadata": {
        "id": "DbbZ9BN_I9pd"
      }
    },
    {
      "cell_type": "code",
      "source": [
        "def accuracy(y_true, y_pred):\n",
        "    return np.mean(y_true == y_pred)\n",
        "\n",
        "# Calculate accuracy\n",
        "train_accuracy = accuracy(y, predictions)\n",
        "print(f'Training Accuracy: {train_accuracy * 100:.2f}%')"
      ],
      "metadata": {
        "colab": {
          "base_uri": "https://localhost:8080/"
        },
        "id": "TS5jQZOZI8fk",
        "outputId": "59222520-bfee-4361-8e35-314c1d9d973c"
      },
      "execution_count": 45,
      "outputs": [
        {
          "output_type": "stream",
          "name": "stdout",
          "text": [
            "Training Accuracy: 71.72%\n"
          ]
        }
      ]
    },
    {
      "cell_type": "markdown",
      "source": [
        "## Several ways to improve the accuracy of your logistic regression model"
      ],
      "metadata": {
        "id": "B2Y83v5kLBcI"
      }
    },
    {
      "cell_type": "markdown",
      "source": [
        "1. **Feature Engineering**:\n",
        "    - **Add Interaction Terms**: Include combinations of features to capture relationships between them.\n",
        "    - **Polynomial Features**: Add polynomial terms (e.g., \\(x^2\\), \\(x^3\\)) to capture non-linear relationships.\n",
        "    - **Feature Scaling**: Ensure all features are on a similar scale, typically done via normalization or standardization.\n",
        "\n",
        "2. **Regularization**:\n",
        "    - Apply regularization techniques such as L1 (Lasso) or L2 (Ridge) to prevent overfitting and improve generalization.\n",
        "\n",
        "3. **Data Augmentation**:\n",
        "    - Increase the size of your dataset by adding more examples or using techniques like synthetic data generation.\n",
        "\n",
        "4. **Feature Selection**:\n",
        "    - Remove irrelevant or redundant features to reduce noise and improve model performance.\n",
        "\n",
        "5. **Hyperparameter Tuning**:\n",
        "    - Adjust hyperparameters such as the learning rate and number of epochs to find the optimal values for your model.\n",
        "\n",
        "6. **Cross-Validation**:\n",
        "    - Use cross-validation to get a better estimate of your model's performance and to ensure it generalizes well to unseen data.\n",
        "\n",
        "7. **Class Imbalance Handling**:\n",
        "    - If your dataset has imbalanced classes, use techniques such as oversampling the minority class, undersampling the majority class, or using appropriate evaluation metrics like the F1 score.\n",
        "\n",
        "8. **Model Ensemble**:\n",
        "    - Combine predictions from multiple models to improve overall performance (e.g., bagging, boosting).\n",
        "\n",
        "Below are some code snippets to implement a few of these techniques.\n",
        "\n",
        "### Adding Polynomial Features\n",
        "```python\n",
        "from sklearn.preprocessing import PolynomialFeatures\n",
        "\n",
        "poly = PolynomialFeatures(degree=2, include_bias=False)\n",
        "X_poly = poly.fit_transform(X)\n",
        "```\n",
        "\n",
        "### Regularization\n",
        "Update the cost function to include a regularization term:\n",
        "```python\n",
        "def compute_cost_with_regularization(X, y, W, B, lambda_):\n",
        "    m = len(y)\n",
        "    Z = np.dot(X, W) + B\n",
        "    A = sigmoid(Z)\n",
        "    cost = - (1 / m) * np.sum(y * np.log(A) + (1 - y) * log(1 - A))\n",
        "    reg_cost = cost + (lambda_ / (2 * m)) * np.sum(np.square(W))\n",
        "    return reg_cost\n",
        "```\n",
        "Update the gradient descent function to include regularization:\n",
        "```python\n",
        "def gradient_descent_with_regularization(X, y, W, B, learning_rate, epochs, lambda_):\n",
        "    m = len(y)\n",
        "    cost_history = []\n",
        "\n",
        "    for i in range(epochs):\n",
        "        Z = np.dot(X, W) + B\n",
        "        A = sigmoid(Z)\n",
        "\n",
        "        # Compute gradients with regularization\n",
        "        dW = (1 / m) * np.dot(X.T, (A - y)) + (lambda_ / m) * W\n",
        "        dB = (1 / m) * np.sum(A - y)\n",
        "\n",
        "        # Update parameters\n",
        "        W -= learning_rate * dW\n",
        "        B -= learning_rate * dB\n",
        "\n",
        "        # Compute and store the cost\n",
        "        cost = compute_cost_with_regularization(X, y, W, B, lambda_)\n",
        "        cost_history.append(cost)\n",
        "\n",
        "        if i % 100 == 0:\n",
        "            print(f'Epoch {i}: Cost {cost}')\n",
        "\n",
        "    return W, B, cost_history\n",
        "```\n",
        "\n",
        "### Cross-Validation\n",
        "```python\n",
        "from sklearn.model_selection import cross_val_score\n",
        "\n",
        "def cross_validation_accuracy(X, y, W, B, cv=5):\n",
        "    accuracies = cross_val_score(LogisticRegression(), X, y, cv=cv, scoring='accuracy')\n",
        "    return np.mean(accuracies)\n",
        "\n",
        "cv_accuracy = cross_validation_accuracy(X, y, W, B)\n",
        "print(f'Cross-Validation Accuracy: {cv_accuracy * 100:.2f}%')\n",
        "```\n",
        "\n",
        "### Using Scikit-Learn for Better Optimization and Feature Selection\n",
        "```python\n",
        "from sklearn.linear_model import LogisticRegression\n",
        "from sklearn.model_selection import train_test_split\n",
        "\n",
        "# Split data into training and test sets\n",
        "X_train, X_test, y_train, y_test = train_test_split(X, y, test_size=0.2, random_state=42)\n",
        "\n",
        "# Create and train the logistic regression model\n",
        "model = LogisticRegression(penalty='l2', C=1.0, solver='lbfgs', max_iter=1000)\n",
        "model.fit(X_train, y_train)\n",
        "\n",
        "# Evaluate the model\n",
        "train_accuracy = model.score(X_train, y_train)\n",
        "test_accuracy = model.score(X_test, y_test)\n",
        "print(f'Training Accuracy: {train_accuracy * 100:.2f}%')\n",
        "print(f'Test Accuracy: {test_accuracy * 100:.2f}%')\n",
        "```\n",
        "\n",
        "### Handling Class Imbalance\n",
        "```python\n",
        "from imblearn.over_sampling import SMOTE\n",
        "\n",
        "# Apply SMOTE to balance the classes\n",
        "smote = SMOTE(random_state=42)\n",
        "X_resampled, y_resampled = smote.fit_resample(X, y)\n",
        "```\n"
      ],
      "metadata": {
        "id": "1QfAQ5xPK64a"
      }
    },
    {
      "cell_type": "code",
      "source": [],
      "metadata": {
        "id": "bATIdADaK99H"
      },
      "execution_count": 45,
      "outputs": []
    }
  ]
}